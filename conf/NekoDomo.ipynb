{
 "cells": [
  {
   "cell_type": "markdown",
   "metadata": {
    "ExecuteTime": {
     "end_time": "2021-08-29T07:28:39.416204Z",
     "start_time": "2021-08-29T07:28:39.412778Z"
    }
   },
   "source": [
    "# 演示"
   ]
  },
  {
   "cell_type": "markdown",
   "metadata": {},
   "source": [
    "Ansible 和 Jupyter 是绝妙的组合，Ansible 负责后端服务，批量控制机器，Jupyter 负责处理前端交互，在网页上处理相关命令，彼此配合实现强大功能。\n",
    "\n",
    "~~基于 [ansible-jupyter.dockerfile](https://github.com/chusiang/ansible-jupyter.dockerfile) 做了一些修改。~~\n",
    "\n",
    "原仓库基于 Python2，现更新为基于 Python3 内核版本。同时给 Jupyter 添加了主题、插件等，让页面更加美观易用，修复了无法输入中文问题。"
   ]
  },
  {
   "cell_type": "markdown",
   "metadata": {},
   "source": [
    "## 执行 shell 指令"
   ]
  },
  {
   "cell_type": "markdown",
   "metadata": {},
   "source": [
    "在命令前添加 `!` 即可运行 shell 指令，和在容器中运行效果相同"
   ]
  },
  {
   "cell_type": "code",
   "execution_count": 1,
   "metadata": {
    "ExecuteTime": {
     "end_time": "2021-08-29T07:27:35.540141Z",
     "start_time": "2021-08-29T07:27:34.719318Z"
    }
   },
   "outputs": [
    {
     "name": "stdout",
     "output_type": "stream",
     "text": [
      "ansible 2.9.17\r\n",
      "  config file = /home/ansible.cfg\r\n",
      "  configured module search path = ['/root/.ansible/plugins/modules', '/usr/share/ansible/plugins/modules']\r\n",
      "  ansible python module location = /usr/local/lib/python3.6/site-packages/ansible\r\n",
      "  executable location = /usr/local/bin/ansible\r\n",
      "  python version = 3.6.8 (default, Nov 16 2020, 16:55:22) [GCC 4.8.5 20150623 (Red Hat 4.8.5-44)]\r\n"
     ]
    }
   ],
   "source": [
    "!ansible --version"
   ]
  },
  {
   "cell_type": "code",
   "execution_count": 2,
   "metadata": {
    "ExecuteTime": {
     "end_time": "2021-08-29T07:27:43.211692Z",
     "start_time": "2021-08-29T07:27:42.939022Z"
    }
   },
   "outputs": [
    {
     "name": "stdout",
     "output_type": "stream",
     "text": [
      "Python 3.6.8\r\n"
     ]
    }
   ],
   "source": [
    "!python3 -V"
   ]
  },
  {
   "cell_type": "code",
   "execution_count": 3,
   "metadata": {
    "ExecuteTime": {
     "end_time": "2021-08-29T07:27:49.183184Z",
     "start_time": "2021-08-29T07:27:48.076896Z"
    }
   },
   "outputs": [
    {
     "name": "stdout",
     "output_type": "stream",
     "text": [
      "adal==1.2.7\r\n",
      "ansible==2.9.17\r\n",
      "applicationinsights==0.11.10\r\n",
      "argcomplete==1.12.3\r\n",
      "argon2-cffi==20.1.0\r\n",
      "async-generator==1.10\r\n",
      "attrs==21.2.0\r\n",
      "azure-cli-core==2.0.35\r\n",
      "azure-cli-nspkg==3.0.2\r\n",
      "azure-common==1.1.11\r\n",
      "azure-graphrbac==0.40.0\r\n",
      "azure-keyvault==1.0.0a1\r\n",
      "azure-mgmt-authorization==0.51.1\r\n",
      "azure-mgmt-automation==0.1.1\r\n",
      "azure-mgmt-batch==5.0.1\r\n",
      "azure-mgmt-cdn==3.0.0\r\n",
      "azure-mgmt-compute==4.4.0\r\n",
      "azure-mgmt-containerinstance==1.4.0\r\n",
      "azure-mgmt-containerregistry==2.0.0\r\n",
      "azure-mgmt-containerservice==4.4.0\r\n",
      "azure-mgmt-cosmosdb==0.5.2\r\n",
      "azure-mgmt-devtestlabs==3.0.0\r\n",
      "azure-mgmt-dns==2.1.0\r\n",
      "azure-mgmt-hdinsight==0.1.0\r\n",
      "azure-mgmt-iothub==0.7.0\r\n",
      "azure-mgmt-keyvault==1.1.0\r\n",
      "azure-mgmt-loganalytics==0.2.0\r\n",
      "azure-mgmt-marketplaceordering==0.1.0\r\n",
      "azure-mgmt-monitor==0.5.2\r\n",
      "azure-mgmt-network==2.3.0\r\n",
      "azure-mgmt-nspkg==2.0.0\r\n",
      "azure-mgmt-rdbms==1.4.1\r\n",
      "azure-mgmt-redis==5.0.0\r\n",
      "azure-mgmt-resource==2.1.0\r\n",
      "azure-mgmt-servicebus==0.5.3\r\n",
      "azure-mgmt-sql==0.10.0\r\n",
      "azure-mgmt-storage==3.1.0\r\n",
      "azure-mgmt-trafficmanager==0.50.0\r\n",
      "azure-mgmt-web==0.41.0\r\n",
      "azure-nspkg==2.0.0\r\n",
      "azure-storage==0.35.1\r\n",
      "backcall==0.2.0\r\n",
      "bcrypt==3.2.0\r\n",
      "bleach==4.1.0\r\n",
      "certifi==2021.5.30\r\n",
      "cffi==1.14.6\r\n",
      "charset-normalizer==2.0.4\r\n",
      "colorama==0.4.4\r\n",
      "cryptography==3.4.8\r\n",
      "cycler==0.10.0\r\n",
      "decorator==5.0.9\r\n",
      "defusedxml==0.7.1\r\n",
      "entrypoints==0.3\r\n",
      "humanfriendly==9.2\r\n",
      "idna==3.2\r\n",
      "importlib-metadata==4.6.4\r\n",
      "ipykernel==5.5.5\r\n",
      "ipython==7.16.1\r\n",
      "ipython-genutils==0.2.0\r\n",
      "ipywidgets==7.6.3\r\n",
      "isodate==0.6.0\r\n",
      "jedi==0.18.0\r\n",
      "Jinja2==3.0.1\r\n",
      "jmespath==0.10.0\r\n",
      "jsonschema==3.2.0\r\n",
      "jupyter==1.0.0\r\n",
      "jupyter-client==7.0.1\r\n",
      "jupyter-console==6.4.0\r\n",
      "jupyter-contrib-core==0.3.3\r\n",
      "jupyter-contrib-nbextensions==0.5.1\r\n",
      "jupyter-core==4.7.1\r\n",
      "jupyter-highlight-selected-word==0.2.0\r\n",
      "jupyter-latex-envs==1.4.6\r\n",
      "jupyter-nbextensions-configurator==0.4.1\r\n",
      "jupyterlab-pygments==0.1.2\r\n",
      "jupyterlab-widgets==1.0.0\r\n",
      "jupyterthemes==0.20.0\r\n",
      "kiwisolver==1.3.1\r\n",
      "knack==0.3.3\r\n",
      "lesscpy==0.15.0\r\n",
      "lxml==4.6.3\r\n",
      "MarkupSafe==2.0.1\r\n",
      "matplotlib==3.3.4\r\n",
      "mistune==0.8.4\r\n",
      "msrest==0.6.1\r\n",
      "msrestazure==0.5.0\r\n",
      "nbclient==0.5.4\r\n",
      "nbconvert==6.0.7\r\n",
      "nbformat==5.1.3\r\n",
      "nest-asyncio==1.5.1\r\n",
      "notebook==6.4.3\r\n",
      "ntlm-auth==1.5.0\r\n",
      "numpy==1.19.5\r\n",
      "oauthlib==3.1.1\r\n",
      "packaging==21.0\r\n",
      "pandocfilters==1.4.3\r\n",
      "paramiko==2.7.2\r\n",
      "parso==0.8.2\r\n",
      "pexpect==4.8.0\r\n",
      "pickleshare==0.7.5\r\n",
      "Pillow==8.3.1\r\n",
      "ply==3.11\r\n",
      "prometheus-client==0.11.0\r\n",
      "prompt-toolkit==3.0.20\r\n",
      "ptyprocess==0.7.0\r\n",
      "pycparser==2.20\r\n",
      "Pygments==2.10.0\r\n",
      "PyJWT==2.1.0\r\n",
      "PyNaCl==1.4.0\r\n",
      "pyOpenSSL==20.0.1\r\n",
      "pyparsing==2.4.7\r\n",
      "pyrsistent==0.18.0\r\n",
      "python-dateutil==2.8.2\r\n",
      "pywinrm==0.4.2\r\n",
      "PyYAML==5.4.1\r\n",
      "pyzmq==22.2.1\r\n",
      "qtconsole==5.1.1\r\n",
      "QtPy==1.10.0\r\n",
      "requests==2.26.0\r\n",
      "requests-ntlm==1.1.0\r\n",
      "requests-oauthlib==1.3.0\r\n",
      "Send2Trash==1.8.0\r\n",
      "six==1.16.0\r\n",
      "tabulate==0.8.2\r\n",
      "terminado==0.11.1\r\n",
      "testpath==0.5.0\r\n",
      "tornado==6.1\r\n",
      "traitlets==4.3.3\r\n",
      "typing-extensions==3.10.0.0\r\n",
      "urllib3==1.26.6\r\n",
      "wcwidth==0.2.5\r\n",
      "webencodings==0.5.1\r\n",
      "widgetsnbextension==3.5.1\r\n",
      "xmltodict==0.12.0\r\n",
      "zipp==3.5.0\r\n"
     ]
    }
   ],
   "source": [
    "!pip3 freeze"
   ]
  },
  {
   "cell_type": "code",
   "execution_count": 4,
   "metadata": {
    "ExecuteTime": {
     "end_time": "2021-08-29T07:28:11.428542Z",
     "start_time": "2021-08-29T07:28:10.073393Z"
    }
   },
   "outputs": [
    {
     "name": "stdout",
     "output_type": "stream",
     "text": [
      "jupyter core     : 4.7.1\n",
      "jupyter-notebook : 6.4.3\n",
      "qtconsole        : 5.1.1\n",
      "ipython          : 7.16.1\n",
      "ipykernel        : 5.5.5\n",
      "jupyter client   : 7.0.1\n",
      "jupyter lab      : not installed\n",
      "nbconvert        : 6.0.7\n",
      "ipywidgets       : 7.6.3\n",
      "nbformat         : 5.1.3\n",
      "traitlets        : 4.3.3\n"
     ]
    }
   ],
   "source": [
    "!jupyter --version"
   ]
  },
  {
   "cell_type": "markdown",
   "metadata": {},
   "source": [
    "## Ansible 常用操作"
   ]
  },
  {
   "cell_type": "markdown",
   "metadata": {
    "ExecuteTime": {
     "end_time": "2021-08-29T07:37:45.063930Z",
     "start_time": "2021-08-29T07:37:45.061016Z"
    }
   },
   "source": [
    "## Playbook"
   ]
  },
  {
   "cell_type": "markdown",
   "metadata": {
    "ExecuteTime": {
     "end_time": "2021-08-29T07:30:59.573066Z",
     "start_time": "2021-08-29T07:30:59.569831Z"
    }
   },
   "source": [
    "## 问题记录"
   ]
  },
  {
   "cell_type": "markdown",
   "metadata": {},
   "source": [
    "### ~~执行结果存在差异~~"
   ]
  },
  {
   "cell_type": "markdown",
   "metadata": {},
   "source": [
    "~~Jupyter 页面上执行的命令和在终端中执行结果不同，如 `!grep -Po '10.253.106.\\d+ \\d+ \\d+ \\d+'` 中正则无法简化成 `(\\d+ ){3}`~~"
   ]
  },
  {
   "cell_type": "markdown",
   "metadata": {
    "ExecuteTime": {
     "end_time": "2021-08-29T07:36:46.817256Z",
     "start_time": "2021-08-29T07:36:46.813922Z"
    }
   },
   "source": [
    "## 更新历史"
   ]
  },
  {
   "cell_type": "markdown",
   "metadata": {},
   "source": [
    "#### 2021"
   ]
  },
  {
   "cell_type": "markdown",
   "metadata": {},
   "source": [
    "- 08-22  构建基础 Jupyter-Ansible 镜像，基于 CentOS 7, Python 3.6.8, ansible 2.9.17, jupyter-notebook 6.4.3。"
   ]
  }
 ],
 "metadata": {
  "kernelspec": {
   "display_name": "Python 3",
   "language": "python",
   "name": "python3"
  },
  "language_info": {
   "codemirror_mode": {
    "name": "ipython",
    "version": 3
   },
   "file_extension": ".py",
   "mimetype": "text/x-python",
   "name": "python",
   "nbconvert_exporter": "python",
   "pygments_lexer": "ipython3",
   "version": "3.6.8"
  },
  "toc": {
   "base_numbering": 1,
   "nav_menu": {},
   "number_sections": true,
   "sideBar": true,
   "skip_h1_title": false,
   "title_cell": "Table of Contents",
   "title_sidebar": "Contents",
   "toc_cell": false,
   "toc_position": {
    "height": "calc(100% - 180px)",
    "left": "10px",
    "top": "150px",
    "width": "307.2px"
   },
   "toc_section_display": true,
   "toc_window_display": true
  }
 },
 "nbformat": 4,
 "nbformat_minor": 2
}
